{
 "cells": [
  {
   "cell_type": "markdown",
   "id": "2f409f77",
   "metadata": {},
   "source": [
    "### What is Docker?\n",
    "\n",
    "- Docker is a software platform that allows you to build, test, and deploy applications quickly. \n",
    "- Docker packages software into standardized units called containers that have everything the software needs to run including libraries, system tools, code, and runtime. \n",
    "- Using Docker, you can quickly deploy and scale applications into any environment and know your code will run."
   ]
  },
  {
   "cell_type": "markdown",
   "id": "0b50bd27",
   "metadata": {},
   "source": [
    "### Steps\n",
    "\n",
    "- "
   ]
  },
  {
   "cell_type": "code",
   "execution_count": null,
   "id": "d74645db",
   "metadata": {},
   "outputs": [],
   "source": [
    "FROM python:3\n",
    "\n",
    "WORKDIR /usr/src/app\n",
    "\n",
    "COPY requirements.txt ./\n",
    "RUN pip install --no-cache-dir -r requirements.txt\n",
    "\n",
    "COPY . .\n",
    "\n",
    "CMD [ \"python\", \"./your-daemon-or-script.py\" ]"
   ]
  }
 ],
 "metadata": {
  "kernelspec": {
   "display_name": "Python 3",
   "language": "python",
   "name": "python3"
  },
  "language_info": {
   "codemirror_mode": {
    "name": "ipython",
    "version": 3
   },
   "file_extension": ".py",
   "mimetype": "text/x-python",
   "name": "python",
   "nbconvert_exporter": "python",
   "pygments_lexer": "ipython3",
   "version": "3.8.8"
  }
 },
 "nbformat": 4,
 "nbformat_minor": 5
}
