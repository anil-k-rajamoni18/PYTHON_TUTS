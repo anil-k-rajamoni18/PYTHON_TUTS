{
 "cells": [
  {
   "cell_type": "code",
   "execution_count": 1,
   "id": "5b108aad",
   "metadata": {},
   "outputs": [],
   "source": [
    "#Time complexity : measure the time take by the program .\n",
    "# We have 3 notation\n",
    "    - Big-Oh -O() - Wrost case \n",
    "    - Big-Teta -  - Average case\n",
    "    - Big - Omeg  - Best case\n",
    "#Always calculate the Wrong case time complexity\n",
    "\n",
    "O(1) < O(logn ) < O(n) < O(n * logn) < O(n*n) < O(2**n) < O(n!)\n"
   ]
  },
  {
   "cell_type": "code",
   "execution_count": 2,
   "id": "588c8e73",
   "metadata": {},
   "outputs": [
    {
     "data": {
      "text/plain": [
       "2.0"
      ]
     },
     "execution_count": 2,
     "metadata": {},
     "output_type": "execute_result"
    }
   ],
   "source": [
    "import math\n",
    "math.log10(100)"
   ]
  },
  {
   "cell_type": "code",
   "execution_count": null,
   "id": "1e4827ed",
   "metadata": {},
   "outputs": [],
   "source": [
    "O(1) < O(logn ) <O(n/2) < O(sqrt(N)) < O(n) < O(n * logn) < O(n*n) < O(2**n) < O(n!)"
   ]
  },
  {
   "cell_type": "markdown",
   "id": "8bd447b6",
   "metadata": {},
   "source": [
    "####  O(1) : one unit of time \n",
    "- Constant"
   ]
  },
  {
   "cell_type": "code",
   "execution_count": null,
   "id": "a99bcd7c",
   "metadata": {},
   "outputs": [],
   "source": [
    "print(\"Hei\")\n",
    "a=10\n",
    "b=20\n",
    "print(a+b)\n",
    "\n",
    "if a>9:\n",
    "    print(\"Greater\")\n",
    "else:\n",
    "    print(\"not greater\")\n",
    "    \n",
    "    \n",
    "#O(1)"
   ]
  },
  {
   "cell_type": "code",
   "execution_count": 3,
   "id": "766ce686",
   "metadata": {},
   "outputs": [
    {
     "name": "stdout",
     "output_type": "stream",
     "text": [
      "Hey Hi\n"
     ]
    }
   ],
   "source": [
    "for i in range(1):\n",
    "    print(\"Hey Hi\")"
   ]
  },
  {
   "cell_type": "code",
   "execution_count": 5,
   "id": "85ef80af",
   "metadata": {},
   "outputs": [
    {
     "name": "stdout",
     "output_type": "stream",
     "text": [
      "HI  HI  HI  HI  HI  HI  HI  HI  HI  HI  HI  HI  HI  HI  HI  HI  HI  HI  HI  HI  HI  HI  HI  HI  HI  HI  HI  HI  HI  HI  HI  HI  HI  HI  HI  HI  HI  HI  HI  HI  HI  HI  HI  HI  HI  HI  HI  HI  HI  HI  HI  HI  HI  HI  HI  HI  HI  HI  HI  HI  HI  HI  HI  HI  HI  HI  HI  HI  HI  HI  HI  HI  HI  HI  HI  HI  HI  HI  HI  HI  HI  HI  HI  HI  HI  HI  HI  HI  HI  HI  HI  HI  HI  HI  HI  HI  HI  HI  HI  HI  "
     ]
    }
   ],
   "source": [
    "for i in range(100):\n",
    "    print(\"HI \", end= \" \")\n",
    "    \n",
    "#it is not depending on other variable \n",
    "#it is constant\n",
    "#O(1)"
   ]
  },
  {
   "cell_type": "markdown",
   "id": "d10df235",
   "metadata": {},
   "source": [
    "### o(n) - Linear"
   ]
  },
  {
   "cell_type": "code",
   "execution_count": 10,
   "id": "82a8070c",
   "metadata": {},
   "outputs": [
    {
     "name": "stdout",
     "output_type": "stream",
     "text": [
      "\n",
      "not equal\n"
     ]
    }
   ],
   "source": [
    "s = input()\n",
    "\n",
    "if s!=\"\":\n",
    "    for i in range(len(s)):\n",
    "        print(s[i] , end = \" \")\n",
    "else:\n",
    "    print(\"not equal\")\n",
    "    \n",
    "#if  - O(len(String)) - O(n)\n",
    "#else - O(1)"
   ]
  },
  {
   "cell_type": "code",
   "execution_count": 12,
   "id": "676d5170",
   "metadata": {},
   "outputs": [
    {
     "name": "stdout",
     "output_type": "stream",
     "text": [
      "10\n",
      "HHHHHHHHHHHHHHHHHHHH"
     ]
    }
   ],
   "source": [
    "#O(n+10) - o(n)\n",
    "n = int(input())\n",
    "for i in range(n+10):\n",
    "    print(\"H\" , end=\"\")"
   ]
  },
  {
   "cell_type": "markdown",
   "id": "57ad5126",
   "metadata": {},
   "source": [
    "### O(n*n) - Quad"
   ]
  },
  {
   "cell_type": "code",
   "execution_count": null,
   "id": "75185dbe",
   "metadata": {},
   "outputs": [],
   "source": [
    "n  = int(input())\n",
    "for row in range(n):\n",
    "    for col in range(n):\n",
    "        print(f'{row}:{col}')\n",
    "    print()\n",
    "    \n",
    "# outer-forloop = O(n)\n",
    "# inner-forloop = O(n)\n",
    "# total = O(n*n)"
   ]
  },
  {
   "cell_type": "code",
   "execution_count": 19,
   "id": "9f71a49d",
   "metadata": {},
   "outputs": [
    {
     "name": "stdout",
     "output_type": "stream",
     "text": [
      "5\n",
      "00000\n"
     ]
    }
   ],
   "source": [
    "n = int(input())\n",
    "for i in range(1):\n",
    "    for j in range(n):\n",
    "        print(i , end =\"\")\n",
    "    print()\n",
    "    \n",
    "# outer-forloop = O(1)\n",
    "# inner-forloop = O(n)\n",
    "# total = O(n*1) = O(n)"
   ]
  },
  {
   "cell_type": "code",
   "execution_count": 21,
   "id": "9c764031",
   "metadata": {},
   "outputs": [
    {
     "name": "stdout",
     "output_type": "stream",
     "text": [
      "0000000000\n"
     ]
    }
   ],
   "source": [
    "n = 10\n",
    "for i in range(1):\n",
    "    for j in range(n):\n",
    "        print(i , end =\"\")\n",
    "    print()\n",
    "# outer-forloop = O(1)\n",
    "# inner-forloop = O(10)\n",
    "# total = O(10*1) = O(10) - O(1)"
   ]
  },
  {
   "cell_type": "code",
   "execution_count": 29,
   "id": "aaf93357",
   "metadata": {},
   "outputs": [
    {
     "name": "stdout",
     "output_type": "stream",
     "text": [
      "3.1622776601683795\n",
      "3\n",
      "4\n"
     ]
    }
   ],
   "source": [
    "import math\n",
    "print(math.sqrt(10))\n",
    "print(math.floor(math.sqrt(10)))\n",
    "print(math.ceil(math.sqrt(10)))"
   ]
  },
  {
   "cell_type": "code",
   "execution_count": 23,
   "id": "37f03061",
   "metadata": {},
   "outputs": [
    {
     "ename": "TypeError",
     "evalue": "'float' object cannot be interpreted as an integer",
     "output_type": "error",
     "traceback": [
      "\u001b[1;31m---------------------------------------------------------------------------\u001b[0m",
      "\u001b[1;31mTypeError\u001b[0m                                 Traceback (most recent call last)",
      "\u001b[1;32m<ipython-input-23-04a9c54e4077>\u001b[0m in \u001b[0;36m<module>\u001b[1;34m\u001b[0m\n\u001b[1;32m----> 1\u001b[1;33m \u001b[1;32mfor\u001b[0m \u001b[0mi\u001b[0m \u001b[1;32min\u001b[0m \u001b[0mrange\u001b[0m\u001b[1;33m(\u001b[0m\u001b[0mmath\u001b[0m\u001b[1;33m.\u001b[0m\u001b[0msqrt\u001b[0m\u001b[1;33m(\u001b[0m\u001b[1;36m10\u001b[0m\u001b[1;33m)\u001b[0m\u001b[1;33m)\u001b[0m\u001b[1;33m:\u001b[0m\u001b[1;33m\u001b[0m\u001b[1;33m\u001b[0m\u001b[0m\n\u001b[0m\u001b[0;32m      2\u001b[0m     \u001b[0mprint\u001b[0m\u001b[1;33m(\u001b[0m\u001b[0mi\u001b[0m\u001b[1;33m)\u001b[0m\u001b[1;33m\u001b[0m\u001b[1;33m\u001b[0m\u001b[0m\n",
      "\u001b[1;31mTypeError\u001b[0m: 'float' object cannot be interpreted as an integer"
     ]
    }
   ],
   "source": [
    "for i in range(math.sqrt(10)):\n",
    "    print(i)"
   ]
  },
  {
   "cell_type": "markdown",
   "id": "72b123e4",
   "metadata": {},
   "source": [
    "### 0(sqrt(n))"
   ]
  },
  {
   "cell_type": "code",
   "execution_count": 32,
   "id": "50e003f0",
   "metadata": {},
   "outputs": [
    {
     "name": "stdout",
     "output_type": "stream",
     "text": [
      "100\n",
      "0123456789"
     ]
    }
   ],
   "source": [
    "import math\n",
    "n = int(input())\n",
    "\n",
    "n_range = math.floor(math.sqrt(n))\n",
    "\n",
    "for i in range(n_range):\n",
    "    print(i , end=\"\")\n",
    "    \n",
    "#O(sqrt(n))\n",
    "    "
   ]
  },
  {
   "cell_type": "code",
   "execution_count": 34,
   "id": "c5cfff2d",
   "metadata": {},
   "outputs": [
    {
     "name": "stdout",
     "output_type": "stream",
     "text": [
      "25\n",
      "count : 125\n"
     ]
    }
   ],
   "source": [
    "import math\n",
    "n = int(input())\n",
    "count=0\n",
    "for i in range(n):\n",
    "    temp = math.floor(math.sqrt(n))\n",
    "    for j in range(temp):\n",
    "        count= count+1\n",
    "print(f\"count : {count}\")\n",
    "\n",
    "# outer-forloop = O(n)\n",
    "# inner-forloop = O(sqrt(n))\n",
    "# total = O(n*sqrt(n))"
   ]
  },
  {
   "cell_type": "markdown",
   "id": "d993930c",
   "metadata": {},
   "source": [
    "### o(n/2)"
   ]
  },
  {
   "cell_type": "code",
   "execution_count": 36,
   "id": "61402913",
   "metadata": {},
   "outputs": [
    {
     "name": "stdout",
     "output_type": "stream",
     "text": [
      "7\n",
      "0 1 2 "
     ]
    }
   ],
   "source": [
    "n = int(input())\n",
    "for i in range(n//2):\n",
    "    print(i , end=\" \")"
   ]
  },
  {
   "cell_type": "code",
   "execution_count": 39,
   "id": "0fd02666",
   "metadata": {},
   "outputs": [
    {
     "name": "stdout",
     "output_type": "stream",
     "text": [
      "5\n",
      "count 10\n"
     ]
    }
   ],
   "source": [
    "n = int(input()) \n",
    "count=0\n",
    "for i in range(n):\n",
    "    for j in range(n//2):\n",
    "            count+=1\n",
    "print(f\"count {count}\")"
   ]
  },
  {
   "cell_type": "code",
   "execution_count": 40,
   "id": "ec7e7c04",
   "metadata": {},
   "outputs": [
    {
     "name": "stdout",
     "output_type": "stream",
     "text": [
      "5\n",
      "count 50\n"
     ]
    }
   ],
   "source": [
    "n = int(input()) \n",
    "count=0\n",
    "for i in range(n):\n",
    "    for j in range(n//2):\n",
    "        for k in range(n):\n",
    "            count+=1\n",
    "print(f\"count {count}\")"
   ]
  },
  {
   "cell_type": "code",
   "execution_count": 42,
   "id": "3429f7b7",
   "metadata": {},
   "outputs": [
    {
     "data": {
      "text/plain": [
       "1"
      ]
     },
     "execution_count": 42,
     "metadata": {},
     "output_type": "execute_result"
    }
   ],
   "source": [
    "math.floor(math.log10(10))"
   ]
  },
  {
   "cell_type": "code",
   "execution_count": 44,
   "id": "95dbebae",
   "metadata": {},
   "outputs": [
    {
     "name": "stdout",
     "output_type": "stream",
     "text": [
      "10\n",
      " count :100\n"
     ]
    }
   ],
   "source": [
    "import math \n",
    "n = int(input())\n",
    "count=0\n",
    "for first in range(n):\n",
    "    for sec in range(n):\n",
    "        third_range  = math.floor(math.log10(n))\n",
    "        for third in range(third_range):\n",
    "            count = count+1\n",
    "print(f\" count :{count}\")f"
   ]
  },
  {
   "cell_type": "code",
   "execution_count": 43,
   "id": "1e14a718",
   "metadata": {},
   "outputs": [
    {
     "name": "stdout",
     "output_type": "stream",
     "text": [
      "10\n",
      " count :250\n"
     ]
    }
   ],
   "source": []
  },
  {
   "cell_type": "code",
   "execution_count": null,
   "id": "75382c64",
   "metadata": {},
   "outputs": [],
   "source": [
    "n = 10"
   ]
  }
 ],
 "metadata": {
  "kernelspec": {
   "display_name": "Python 3",
   "language": "python",
   "name": "python3"
  },
  "language_info": {
   "codemirror_mode": {
    "name": "ipython",
    "version": 3
   },
   "file_extension": ".py",
   "mimetype": "text/x-python",
   "name": "python",
   "nbconvert_exporter": "python",
   "pygments_lexer": "ipython3",
   "version": "3.8.8"
  }
 },
 "nbformat": 4,
 "nbformat_minor": 5
}
