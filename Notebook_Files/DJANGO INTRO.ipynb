{
 "cells": [
  {
   "cell_type": "markdown",
   "metadata": {},
   "source": [
    "### Web Development!\n",
    "\n",
    "- Web development is the building and maintenance of websites; it’s the work that happens behind the scenes to make a website look great, work fast and perform well with a seamless user experience.\n",
    "\n",
    "- Web developers, or ‘devs’, do this by using a variety of coding languages. "
   ]
  },
  {
   "cell_type": "markdown",
   "metadata": {},
   "source": [
    "#### A front-end dev takes care of layout, design and interactivity using HTML, CSS and JavaScript. They take an idea from the drawing board and turn it into reality.\n",
    "- What you see and What you use like\n",
    "- visual effects\n",
    "- drop down mens\n",
    "- forms\n"
   ]
  },
  {
   "cell_type": "markdown",
   "metadata": {},
   "source": [
    "#### The backend developer engineers what is going on behind the scenes. This is where the data is stored, and without this data, there would be no frontend. \n",
    "- The backend of the web consists of the server that hosts the website, an application for running it and a database to contain the data."
   ]
  },
  {
   "cell_type": "markdown",
   "metadata": {},
   "source": [
    "### If both Frontend and Backend development appeal to you, you could consider becoming a Full-Stack Developer."
   ]
  },
  {
   "cell_type": "markdown",
   "metadata": {},
   "source": [
    "### Web development with Python\n",
    "\n",
    "Step 1: HTML + CSS. ...\n",
    "\n",
    "Step 2: Javascript. ...\n",
    "\n",
    "Step 3: DOM & jQuery. ...\n",
    "\n",
    "Frontend Framework (optional) ...\n",
    "\n",
    "Step 4: Python. ...\n",
    "\n",
    "Step 5: Django + Database. or Flask + Database"
   ]
  },
  {
   "cell_type": "markdown",
   "metadata": {},
   "source": [
    "### Web Frameworks\n",
    "\n",
    "- Framwork is collection of tools and packages to develop a application\n",
    "\n",
    "- Python web frameworks are only utilized in the backend for server-side technology, aiding in URL routing, HTTP requests and responses, accessing databases, and web security\n",
    "\n",
    "- Django and Flask are, by a wide margin, the most popular Python web development frameworks\n",
    "\n",
    "\n",
    "\n",
    "- Other Frameworks\n",
    "    - Pyramid\n",
    "    - Web2Pym\n",
    "    - Turbogears\n"
   ]
  },
  {
   "cell_type": "markdown",
   "metadata": {},
   "source": [
    "### Djago\n",
    "\n",
    "<img src = \"https://cdn.datafloq.com/cache/blog_pictures/878x531/advantages-and-disadvantages-of-using-django.jpg\">\n",
    "\n",
    "\n",
    "- Django is a high-level Python Web framework that encourages rapid development and clean, pragmatic design. \n",
    "- Built by experienced developers, it takes care of much of the hassle of Web development, \n",
    "- so you can focus on writing your app without needing to reinvent the wheel. It’s free and open source.\n",
    "\n",
    "### Pro's\n",
    "\n",
    "- Ridiculously fast.\n",
    "-  Reassuringly secure.\n",
    "- Exceedingly scalable.\n",
    "\n",
    "- Mature Software with numerous Plug-ins\n",
    "- Highly Customizable\n",
    "- Effective Admin Panel\n",
    "- Django has the Representational State Transfer (REST) framework-  Adopts Battery-included approach\n",
    "- Supports MVC programming\n",
    "- High compatibility with databases and operating systems\n",
    "\n",
    "\n",
    "#### Cons \n",
    "\n",
    "- Cons of Django Framework\n",
    "- Lacks the capability to handle multiple requests simultaneously\n",
    "- Based on Django ORM\n",
    "- Makes web app components tightly-coupled\n",
    "- Too Monolithic\n",
    "\n",
    "#### histroy\n",
    "\n",
    "- Django was design and developed by Lawrence journal world in 2003 and publicly released under BSD license in July 2005. \n",
    "- Currently, DSF (Django Software Foundation) maintains its development and release cycle.\n",
    "\n",
    "- Django was released on 21, July 2005. Its current stable version is 2.2.5 which was released April 1, 2019."
   ]
  },
  {
   "cell_type": "markdown",
   "metadata": {},
   "source": [
    "### Install Django\n",
    "\n",
    "- Before you can use Django , you'll need to install it.\n",
    "\n",
    "#### Creating a environment\n",
    "\n",
    "- step 1: mkdir myproject\n",
    "- step2: cd myproject\n",
    "- step3: python -m venv nameofenv\n",
    "- step4: activate the environment\n",
    "        .\\nameofenv\\Scripts\\activate\n",
    "        \n",
    "- step5: install the Djano\n",
    "        pip install django\n",
    "        \n",
    "- step 6: check the version\n",
    "        python -m django --version\n",
    "        "
   ]
  },
  {
   "cell_type": "markdown",
   "metadata": {},
   "source": [
    "### Create a project "
   ]
  },
  {
   "cell_type": "markdown",
   "metadata": {},
   "source": [
    " - django-admin startproject mysite\n",
    " \n",
    " This will create a mysite directory in your current directory."
   ]
  },
  {
   "cell_type": "markdown",
   "metadata": {},
   "source": [
    "#### Where should this code live?\n",
    "\n",
    "If your background is in plain old PHP (with no use of modern frameworks), you’re probably used to putting code under the Web server’s document root (in a place such as /var/www). With Django, you don’t do that. It’s not a good idea to put any of this Python code within your Web server’s document root, because it risks the possibility that people may be able to view your code over the Web. That’s not good for security.\n",
    "\n",
    "Put your code in some directory outside of the document root, such as /home/mycode."
   ]
  },
  {
   "cell_type": "markdown",
   "metadata": {},
   "source": [
    "### Run the project\n",
    "- python manage.py runserver"
   ]
  },
  {
   "cell_type": "code",
   "execution_count": null,
   "metadata": {},
   "outputs": [],
   "source": []
  }
 ],
 "metadata": {
  "kernelspec": {
   "display_name": "Python 3",
   "language": "python",
   "name": "python3"
  },
  "language_info": {
   "codemirror_mode": {
    "name": "ipython",
    "version": 3
   },
   "file_extension": ".py",
   "mimetype": "text/x-python",
   "name": "python",
   "nbconvert_exporter": "python",
   "pygments_lexer": "ipython3",
   "version": "3.7.7"
  }
 },
 "nbformat": 4,
 "nbformat_minor": 4
}
