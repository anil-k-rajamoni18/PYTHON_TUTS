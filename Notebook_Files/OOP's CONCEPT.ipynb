{
 "cells": [
  {
   "cell_type": "markdown",
   "metadata": {},
   "source": [
    "### Functional Programming VS Object Oriented Programming (OOP)?"
   ]
  },
  {
   "cell_type": "markdown",
   "metadata": {},
   "source": [
    "Functional programming is the form of programming that attempts to avoid changing state and mutable data. In a functional program, the output of a function should always be the same, given the same exact inputs to the function.\n",
    "\n",
    "\n",
    "This is because the outputs of a function in functional programming purely relies on arguments of the function, and there is no magic that is happening behind the scenes. This is called eliminating side effects in your code.\n",
    "\n",
    "\n",
    "For example, if you call function getAddition() it calculates the sum of two inputs and returns the sum. Given the same inputs for x and y, we will always get the same output for sum.\n",
    "\n",
    "\n",
    "Functional programming provides the advantages like efficiency, lazy evaluation, nested functions, bug-free code, parallel programming. In simple language, functional programming is to write the function having statements to execute a particular task for the application"
   ]
  },
  {
   "cell_type": "markdown",
   "metadata": {},
   "source": [
    "- Object oriented programming is a programming paradigm in which you program using objects to represent things you are programming about (sometimes real world things). These objects could be data structures. The objects hold data about them in attributes. The attributes in the objects are manipulated through methods or functions that are given to the object.\n",
    "\n",
    "- For example we might have a car object that represents of all of data the data a car can have , like speed , weight , color , horse power , model name , engine type etc\n",
    "\n",
    "\n",
    "- The main deal with OOP is the ability to encapsulate data from outsiders. Encapsulation is the ability to hide variables within the class from outside access — which makes it great for security reasons, along with leaky, unwanted or accidental usage"
   ]
  },
  {
   "cell_type": "code",
   "execution_count": null,
   "metadata": {},
   "outputs": [],
   "source": [
    "class Bank:\n",
    "    def __init__(self,bankAccno,bankBalance,customerName):\n",
    "        self.bankAcco = bankAccno\n",
    "        self.bankBalance = bankBalance\n",
    "        self.customerName = customerName\n",
    "    def customerData(self):\n",
    "        print(\"|||| Customer Data ||||\")\n",
    "        print(f\"{self.bankAcco}  {self.bankBalance} {self.customerName}\")\n",
    "        \n",
    "    def greetCustomer(self):\n",
    "        return f\"Hi {self.customerName} Welcome to ICICI Bank\"\n",
    "    \n",
    "    def getBalance(self):\n",
    "        return self.bankBalance\n",
    "    \n",
    "    def depoist(self,amount):\n",
    "        self.bankBalance = self.bankBalance+amount\n",
    "        self.getBalance()\n",
    "    \n",
    "    def withdrawal(self,amount):\n",
    "        if(self.getBalance()==0):\n",
    "            return \"No Balance\"\n",
    "        else:\n",
    "            self.bankBalance-=amount\n",
    "            self.getBalance()\n",
    "            \n",
    "\n",
    "icici = Bank(175726,0.0 , \"AK\")\n",
    "chase = Bank(15571,199112 , \"Deepa\")\n",
    "\n",
    "        \n",
    "        \n"
   ]
  },
  {
   "cell_type": "code",
   "execution_count": null,
   "metadata": {},
   "outputs": [],
   "source": [
    "dir(icici)"
   ]
  },
  {
   "cell_type": "code",
   "execution_count": null,
   "metadata": {},
   "outputs": [],
   "source": [
    "icici.greetCustomer()"
   ]
  },
  {
   "cell_type": "code",
   "execution_count": null,
   "metadata": {},
   "outputs": [],
   "source": [
    "icici.customerData()"
   ]
  },
  {
   "cell_type": "code",
   "execution_count": null,
   "metadata": {},
   "outputs": [],
   "source": [
    "icici.depoist(100)"
   ]
  },
  {
   "cell_type": "code",
   "execution_count": null,
   "metadata": {},
   "outputs": [],
   "source": [
    "icici.getBalance()"
   ]
  },
  {
   "cell_type": "code",
   "execution_count": null,
   "metadata": {},
   "outputs": [],
   "source": [
    "icici.withdrawal(50)"
   ]
  },
  {
   "cell_type": "code",
   "execution_count": null,
   "metadata": {},
   "outputs": [],
   "source": [
    "icici.getBalance()"
   ]
  },
  {
   "cell_type": "code",
   "execution_count": null,
   "metadata": {},
   "outputs": [],
   "source": [
    "def Retrieve_FirstName(data):\n",
    "    for i in data:\n",
    "        print(i.split()[0])\n",
    "        \n",
    "        \n",
    "def Retrieve_FirstName2(data):\n",
    "    for i in data:\n",
    "        print(i.split()[1])\n",
    "#map()\n",
    "#filter()\n",
    "# lambada\n",
    "# reduce()"
   ]
  },
  {
   "cell_type": "code",
   "execution_count": null,
   "metadata": {},
   "outputs": [],
   "source": []
  },
  {
   "cell_type": "code",
   "execution_count": null,
   "metadata": {},
   "outputs": [],
   "source": [
    "a=10.6\n",
    "print(type(a))"
   ]
  },
  {
   "cell_type": "code",
   "execution_count": null,
   "metadata": {},
   "outputs": [],
   "source": [
    "# Retrieve_FirstName(['Elon Musk','Sayta Nadella','Julian Sweet'])\n",
    "Retrieve_FirstName2(['Elon Musk','Sayta Nadella','Julian Sweet'])\n"
   ]
  },
  {
   "cell_type": "code",
   "execution_count": null,
   "metadata": {},
   "outputs": [],
   "source": [
    "\"Elon Musk\".split()"
   ]
  },
  {
   "cell_type": "code",
   "execution_count": null,
   "metadata": {},
   "outputs": [],
   "source": []
  },
  {
   "cell_type": "markdown",
   "metadata": {},
   "source": [
    "<img src = \"https://miro.medium.com/max/875/1*9OCTlnrfdIvV6dsBv-ECow.jpeg\">"
   ]
  },
  {
   "cell_type": "markdown",
   "metadata": {},
   "source": [
    "### OOP's\n",
    "\n",
    "Object means a real-world entity such as a pen, chair, table, computer, watch, etc. Object-Oriented Programming is a methodology or paradigm to design a program using classes and objects. It simplifies software development and maintenance by providing some concepts:\n",
    "\n",
    "- Object\n",
    "- Class\n",
    "- Inheritance\n",
    "- Polymorphism\n",
    "- Abstraction\n",
    "- Encapsulation"
   ]
  },
  {
   "cell_type": "markdown",
   "metadata": {},
   "source": [
    "<img src =\"https://i.pinimg.com/564x/7d/9d/82/7d9d82a724a956883aa64cff9d112c63.jpg \">"
   ]
  },
  {
   "cell_type": "markdown",
   "metadata": {},
   "source": [
    "### Class & Object\n",
    "\n",
    "- As we know all , Python is an object oriented programming language.\n",
    "- In python almost everything is an object with properties and methods\n",
    "\n",
    "\n",
    "### Class\n",
    "\n",
    "- A class is like a object constuctor \n",
    "- A class defines the specification of the instance ( object) , in simple words it design a blue print ,for the object with all behavourial things defined.\n",
    "\n",
    "- It is like a template\n",
    "\n",
    "- In Python to create a class CLASS keyword is used.\n",
    "\n",
    "- Class names should be singular and pascal case style\n",
    "\n",
    "\n",
    "### object :\n",
    "\n",
    "- An object is defined as Real entity derived from class definition\n",
    "\n",
    "- An object is data formatted to represent a real world object that has a state and behavior\n",
    "\n",
    "- State = defined by attributes \n",
    "\n",
    "- Behaviour = defined by methods\n",
    "\n",
    "- An object cant exist without a Class.\n",
    "- Object will have attributes(variables) and methods(functions) and their associated properties\n",
    "\n",
    "- Object expose the data to the outside world using methods\n",
    "- Always attributes are private scope and methods are public scope , bounded together.\n",
    "\n"
   ]
  },
  {
   "cell_type": "markdown",
   "metadata": {},
   "source": [
    "<img src = \"https://cdn.techbeamers.com/wp-content/uploads/2019/04/Java-Class-and-Object-Concept.png\">"
   ]
  },
  {
   "cell_type": "code",
   "execution_count": null,
   "metadata": {},
   "outputs": [],
   "source": [
    "a = 10\n",
    "print(type(a))\n",
    "\n",
    "b =[1,23,4]\n",
    "print(type(b))"
   ]
  },
  {
   "cell_type": "code",
   "execution_count": null,
   "metadata": {},
   "outputs": [],
   "source": [
    "#global scope\n",
    "a=10\n",
    "b=3\n",
    "\n",
    "def add(): \n",
    "    a=40\n",
    "    print(a+b)\n",
    "def mult():\n",
    "    global b\n",
    "    b=2\n",
    "    print(a*b)\n",
    "\n",
    "#calling\n",
    "add()\n",
    "mult()\n",
    "add()"
   ]
  },
  {
   "cell_type": "markdown",
   "metadata": {},
   "source": [
    "### Class"
   ]
  },
  {
   "cell_type": "code",
   "execution_count": null,
   "metadata": {},
   "outputs": [],
   "source": [
    "def add(a,b):\n",
    "    return a+b\n",
    "\n",
    "x=12\n",
    "y=30\n",
    "add(x,y)"
   ]
  },
  {
   "cell_type": "code",
   "execution_count": null,
   "metadata": {},
   "outputs": [],
   "source": [
    "#declaring a class or Blue Print\n",
    "class MyClass:\n",
    "    x=10 #variable = defines states\n",
    "\n",
    "\n",
    "#declaring a object\n",
    "\n",
    "p1 = MyClass() #instantiation = Calling the class to create a object\n",
    "print(p1)\n",
    "print(p1.x)\n",
    "print(p1.__dict__)\n",
    "print(MyClass.x)\n",
    "print(x)\n",
    "#"
   ]
  },
  {
   "cell_type": "code",
   "execution_count": null,
   "metadata": {},
   "outputs": [],
   "source": []
  },
  {
   "cell_type": "code",
   "execution_count": null,
   "metadata": {},
   "outputs": [],
   "source": [
    "p2 = MyClass()\n",
    "print(p2)\n",
    "p2.x = \"My New Value 10\"\n",
    "print(p2.x)"
   ]
  },
  {
   "cell_type": "code",
   "execution_count": null,
   "metadata": {},
   "outputs": [],
   "source": []
  },
  {
   "cell_type": "code",
   "execution_count": null,
   "metadata": {},
   "outputs": [],
   "source": [
    "#method 1\n",
    "class Test:\n",
    "    pass\n",
    "\n",
    "a = Test()\n",
    "print(a.x)"
   ]
  },
  {
   "cell_type": "code",
   "execution_count": null,
   "metadata": {},
   "outputs": [],
   "source": [
    "#method 1\n",
    "class Test:\n",
    "    pass\n",
    "\n",
    "a = Test()\n",
    "a.x=\"Python\"\n",
    "print(a.x)\n"
   ]
  },
  {
   "cell_type": "code",
   "execution_count": null,
   "metadata": {},
   "outputs": [],
   "source": [
    "type(a)\n",
    "print(type(a))\n",
    "print(a.__dict__)\n"
   ]
  },
  {
   "cell_type": "code",
   "execution_count": null,
   "metadata": {},
   "outputs": [],
   "source": [
    "# method2\n",
    "class  test1:\n",
    "    pass\n",
    "\n",
    "b = test1()\n",
    "print(b.__dict__)\n",
    "#attributes - variables\n",
    "b.name=\"AK\"\n",
    "b.age=21\n",
    "b.year_of_birth=1999"
   ]
  },
  {
   "cell_type": "code",
   "execution_count": null,
   "metadata": {},
   "outputs": [],
   "source": [
    "b # its is an instance of type \"test1\""
   ]
  },
  {
   "cell_type": "code",
   "execution_count": null,
   "metadata": {},
   "outputs": [],
   "source": [
    "print(b.name)"
   ]
  },
  {
   "cell_type": "code",
   "execution_count": null,
   "metadata": {},
   "outputs": [],
   "source": [
    "#check the dir()\n",
    "\n",
    "dir(b)"
   ]
  },
  {
   "cell_type": "code",
   "execution_count": null,
   "metadata": {},
   "outputs": [],
   "source": []
  },
  {
   "cell_type": "code",
   "execution_count": null,
   "metadata": {},
   "outputs": [],
   "source": [
    "b.__dict__ #dundder methods or magic methods\n"
   ]
  },
  {
   "cell_type": "code",
   "execution_count": null,
   "metadata": {},
   "outputs": [],
   "source": [
    "##creating another object\n",
    "\n",
    "c=test1()\n",
    "c.name=\"Wick\"\n",
    "c.age=19\n",
    "c.year_of_birth=2002\n",
    "c.course = \"CSE\""
   ]
  },
  {
   "cell_type": "code",
   "execution_count": null,
   "metadata": {},
   "outputs": [],
   "source": [
    "print(c.__dict__)"
   ]
  },
  {
   "cell_type": "code",
   "execution_count": null,
   "metadata": {},
   "outputs": [],
   "source": [
    "#accessing the attributes\n",
    "print(c.name)\n",
    "print(c.age)\n",
    "print(c.year_of_birth)\n",
    "# print(c.surname) # ERROR"
   ]
  },
  {
   "cell_type": "code",
   "execution_count": null,
   "metadata": {},
   "outputs": [],
   "source": [
    "#method 3\n",
    "class Student1:\n",
    "    #class variables\n",
    "    name=\"RV\"\n",
    "    college=\"Vidhya Jyothi\"\n",
    "    fee=125.3\n",
    "    \n",
    "S=Student1()\n",
    "print(S)\n",
    "print(S.name)\n",
    "S.name = \"Deepa\" #instance variable.\n",
    "print(S.name)\n",
    "print(S.college)\n",
    "print(S.fee)\n"
   ]
  },
  {
   "cell_type": "code",
   "execution_count": null,
   "metadata": {},
   "outputs": [],
   "source": [
    "S.__dict__"
   ]
  },
  {
   "cell_type": "code",
   "execution_count": null,
   "metadata": {},
   "outputs": [],
   "source": [
    "dir(S)"
   ]
  },
  {
   "cell_type": "code",
   "execution_count": null,
   "metadata": {},
   "outputs": [],
   "source": [
    "S.__dict__"
   ]
  },
  {
   "cell_type": "code",
   "execution_count": null,
   "metadata": {},
   "outputs": [],
   "source": [
    "#CREATING A FUNCTION PASSING THE OBJECT\n",
    "def display(obj):\n",
    "    print(f'{obj.name} is {obj.age} old and born in {obj.year_of_birth}')"
   ]
  },
  {
   "cell_type": "code",
   "execution_count": null,
   "metadata": {},
   "outputs": [],
   "source": [
    "display(c)"
   ]
  },
  {
   "cell_type": "code",
   "execution_count": null,
   "metadata": {},
   "outputs": [],
   "source": [
    "print(c)"
   ]
  },
  {
   "cell_type": "code",
   "execution_count": null,
   "metadata": {},
   "outputs": [],
   "source": [
    "display(b)"
   ]
  },
  {
   "cell_type": "code",
   "execution_count": null,
   "metadata": {},
   "outputs": [],
   "source": [
    "class A:\n",
    "    class_var = \"10\"\n",
    "    \n",
    "    def __init__(self,a):\n",
    "        print(\"Iam called on object creation\")\n",
    "        self.name = a\n",
    "\n",
    "obj = A(12)\n",
    "print(obj.name)\n",
    "print(obj.class_var)\n",
    "print(A.class_var)\n"
   ]
  },
  {
   "cell_type": "code",
   "execution_count": null,
   "metadata": {},
   "outputs": [],
   "source": [
    "for i in range(5):\n",
    "    a = A(i)\n",
    "    print(a.name)"
   ]
  },
  {
   "cell_type": "code",
   "execution_count": null,
   "metadata": {},
   "outputs": [],
   "source": [
    "#method 4 , real life way of defining the class\n",
    "\n",
    "class Person:\n",
    "    College = \"ABC\" #class variable\n",
    "    def __init__(self,name,surname ,yob=2000): #constructor , it is called automac when object is created.\n",
    "        #instance vaiable\n",
    "        print(\"self\",self)\n",
    "        self.first_name = name #p1.first_name = \n",
    "        self.surname = surname #p1.surname=\n",
    "        self.Birth_date = yob  #p1.Brithdate=\n",
    "\n",
    "p1 = Person(\"AK\",\"Rajamoni\")\n",
    "# print(first_name)\n",
    "print(p1.surname)\n",
    "print(p1.Birth_date)\n",
    "print(Person.College)\n",
    "print(p1.College)\n",
    "print(Person.first_name) #error.\n",
    "#Note :\n",
    "# you can access Class Var's with : Class Name & Object Name.\n",
    "# But you can't Object Var(Instance var's ) with ClassName "
   ]
  },
  {
   "cell_type": "code",
   "execution_count": null,
   "metadata": {},
   "outputs": [],
   "source": [
    "p2 = Person(\"Deepa\",\"Student\")\n",
    "print(p2.__dict__)\n",
    "print(p2.College)"
   ]
  },
  {
   "cell_type": "code",
   "execution_count": null,
   "metadata": {},
   "outputs": [],
   "source": [
    "x=[10,303,20]\n",
    "y=x\n",
    "y[0]"
   ]
  },
  {
   "cell_type": "markdown",
   "metadata": {},
   "source": [
    "### __init__()\n",
    "\n",
    "All classes have a function called __init__(), which is always executed when the class is being initiated (when object is create).\n",
    "- It a constructor called automatically , Note: The __init__() function is called automatically every time the class is being used to create a new object\n",
    "- Use the __init__() function to assign values to object properties, or other operations that are necessary to do when the object is being created:\n",
    "\n",
    "\n",
    "#### self \n",
    "- The self parameter is a reference to the current instance of the class, and is used to access variables that belong to the class.\n",
    "\n",
    "- self ,You can name it in your way , you can call in what ever you like but it has to be first parameter of any class  "
   ]
  },
  {
   "cell_type": "code",
   "execution_count": 3,
   "metadata": {},
   "outputs": [
    {
     "name": "stdout",
     "output_type": "stream",
     "text": [
      "Object created\n",
      "Object created\n",
      "Object created\n",
      "Object created\n",
      "Object created\n",
      "Object created\n"
     ]
    }
   ],
   "source": [
    "class A:\n",
    "    def __init__(self):\n",
    "        print(\"Object created\")\n",
    "\n",
    "obj = A()\n",
    "\n",
    "for i in range(5):\n",
    "    obj = A()"
   ]
  },
  {
   "cell_type": "code",
   "execution_count": null,
   "metadata": {},
   "outputs": [],
   "source": []
  },
  {
   "cell_type": "code",
   "execution_count": 4,
   "metadata": {},
   "outputs": [
    {
     "name": "stdout",
     "output_type": "stream",
     "text": [
      "enter the car nameSwift \n",
      "enter the price1179791\n",
      "enter the color carRed\n",
      "<__main__.Car object at 0x000001F11973F4F0>\n"
     ]
    }
   ],
   "source": [
    "class Car:\n",
    "    user_name  = \"Ak\" # class variable\n",
    "    def __init__(self,name,price,color): #constructor \n",
    "        self.carName = name\n",
    "        self.carPrice = price\n",
    "        self.carColor = color\n",
    "\n",
    "# audi = Car() # error\n",
    "\n",
    "\n",
    "mercedes = Car(input(\"enter the car name\"),int(input(\"enter the price\")),input(\"enter the color car\"))\n",
    "print(mercedes)"
   ]
  },
  {
   "cell_type": "code",
   "execution_count": 5,
   "metadata": {},
   "outputs": [
    {
     "name": "stdout",
     "output_type": "stream",
     "text": [
      "Swift \n"
     ]
    }
   ],
   "source": [
    "print(mercedes.carName)"
   ]
  },
  {
   "cell_type": "code",
   "execution_count": 6,
   "metadata": {},
   "outputs": [
    {
     "name": "stdout",
     "output_type": "stream",
     "text": [
      "{'carName': 'Swift ', 'carPrice': 1179791, 'carColor': 'Red'}\n"
     ]
    }
   ],
   "source": [
    "print(mercedes.__dict__)"
   ]
  },
  {
   "cell_type": "code",
   "execution_count": 7,
   "metadata": {},
   "outputs": [
    {
     "name": "stdout",
     "output_type": "stream",
     "text": [
      "{'carName': 'Audi', 'carPrice': 2002802, 'carColor': 'white'}\n"
     ]
    }
   ],
   "source": [
    "audi = Car(\"Audi\",2002802,\"white\")\n",
    "print(audi.__dict__)"
   ]
  },
  {
   "cell_type": "code",
   "execution_count": 8,
   "metadata": {},
   "outputs": [
    {
     "data": {
      "text/plain": [
       "'Ak'"
      ]
     },
     "execution_count": 8,
     "metadata": {},
     "output_type": "execute_result"
    }
   ],
   "source": [
    "# class variable\n",
    "Car.user_name"
   ]
  },
  {
   "cell_type": "code",
   "execution_count": 9,
   "metadata": {},
   "outputs": [
    {
     "data": {
      "text/plain": [
       "'Ak'"
      ]
     },
     "execution_count": 9,
     "metadata": {},
     "output_type": "execute_result"
    }
   ],
   "source": [
    "audi.user_name"
   ]
  },
  {
   "cell_type": "code",
   "execution_count": 10,
   "metadata": {},
   "outputs": [
    {
     "data": {
      "text/plain": [
       "'Ak'"
      ]
     },
     "execution_count": 10,
     "metadata": {},
     "output_type": "execute_result"
    }
   ],
   "source": [
    "mercedes.user_name"
   ]
  },
  {
   "cell_type": "code",
   "execution_count": 11,
   "metadata": {},
   "outputs": [
    {
     "name": "stdout",
     "output_type": "stream",
     "text": [
      "Enter the user nameHari\n",
      "{'fee': 10.191, 'userName': 'Hari'}\n"
     ]
    }
   ],
   "source": [
    "class A:\n",
    "    course = \"Python \"\n",
    "    def __init__(self,a):\n",
    "        self.fee = a\n",
    "        self.userName = input(\"Enter the user name\")\n",
    "        \n",
    "    def greetUser(self):\n",
    "        return f\"Hello {self.userName}\"\n",
    "    def displayFee(self):\n",
    "        return self.fee\n",
    "    \n",
    "a = A(10.191)\n",
    "print(a.__dict__)\n"
   ]
  },
  {
   "cell_type": "code",
   "execution_count": 13,
   "metadata": {},
   "outputs": [
    {
     "data": {
      "text/plain": [
       "'Hello Hari'"
      ]
     },
     "execution_count": 13,
     "metadata": {},
     "output_type": "execute_result"
    }
   ],
   "source": [
    "a.greetUser()"
   ]
  },
  {
   "cell_type": "code",
   "execution_count": 14,
   "metadata": {},
   "outputs": [
    {
     "data": {
      "text/plain": [
       "10.191"
      ]
     },
     "execution_count": 14,
     "metadata": {},
     "output_type": "execute_result"
    }
   ],
   "source": [
    "a.displayFee()"
   ]
  },
  {
   "cell_type": "code",
   "execution_count": null,
   "metadata": {},
   "outputs": [],
   "source": [
    "#Student\n",
    "#college , course ->class var\n",
    "# name , age , rollno -> instance vars\n",
    "# displaystudent , age , rollno -> instance methods"
   ]
  },
  {
   "cell_type": "code",
   "execution_count": null,
   "metadata": {},
   "outputs": [],
   "source": []
  },
  {
   "cell_type": "code",
   "execution_count": 15,
   "metadata": {},
   "outputs": [],
   "source": [
    "from datetime import datetime\n",
    "a = datetime.now()"
   ]
  },
  {
   "cell_type": "code",
   "execution_count": 16,
   "metadata": {},
   "outputs": [
    {
     "name": "stdout",
     "output_type": "stream",
     "text": [
      "2022-04-23 21:14:56.400720\n",
      "2022\n"
     ]
    }
   ],
   "source": [
    "print(a)\n",
    "print(a.year)"
   ]
  },
  {
   "cell_type": "code",
   "execution_count": 18,
   "metadata": {},
   "outputs": [
    {
     "data": {
      "text/plain": [
       "['__add__',\n",
       " '__class__',\n",
       " '__delattr__',\n",
       " '__dir__',\n",
       " '__doc__',\n",
       " '__eq__',\n",
       " '__format__',\n",
       " '__ge__',\n",
       " '__getattribute__',\n",
       " '__gt__',\n",
       " '__hash__',\n",
       " '__init__',\n",
       " '__init_subclass__',\n",
       " '__le__',\n",
       " '__lt__',\n",
       " '__ne__',\n",
       " '__new__',\n",
       " '__radd__',\n",
       " '__reduce__',\n",
       " '__reduce_ex__',\n",
       " '__repr__',\n",
       " '__rsub__',\n",
       " '__setattr__',\n",
       " '__sizeof__',\n",
       " '__str__',\n",
       " '__sub__',\n",
       " '__subclasshook__',\n",
       " 'astimezone',\n",
       " 'combine',\n",
       " 'ctime',\n",
       " 'date',\n",
       " 'day',\n",
       " 'dst',\n",
       " 'fold',\n",
       " 'fromisocalendar',\n",
       " 'fromisoformat',\n",
       " 'fromordinal',\n",
       " 'fromtimestamp',\n",
       " 'hour',\n",
       " 'isocalendar',\n",
       " 'isoformat',\n",
       " 'isoweekday',\n",
       " 'max',\n",
       " 'microsecond',\n",
       " 'min',\n",
       " 'minute',\n",
       " 'month',\n",
       " 'now',\n",
       " 'replace',\n",
       " 'resolution',\n",
       " 'second',\n",
       " 'strftime',\n",
       " 'strptime',\n",
       " 'time',\n",
       " 'timestamp',\n",
       " 'timetuple',\n",
       " 'timetz',\n",
       " 'today',\n",
       " 'toordinal',\n",
       " 'tzinfo',\n",
       " 'tzname',\n",
       " 'utcfromtimestamp',\n",
       " 'utcnow',\n",
       " 'utcoffset',\n",
       " 'utctimetuple',\n",
       " 'weekday',\n",
       " 'year']"
      ]
     },
     "execution_count": 18,
     "metadata": {},
     "output_type": "execute_result"
    }
   ],
   "source": [
    "# dir(a)"
   ]
  },
  {
   "cell_type": "code",
   "execution_count": 19,
   "metadata": {},
   "outputs": [
    {
     "name": "stdout",
     "output_type": "stream",
     "text": [
      "Debora\n",
      "The Person name is Debora Willams and she was born in 2009\n",
      "Full name is DeboraWillams\n",
      " Debora age is 13\n"
     ]
    }
   ],
   "source": [
    "\n",
    "class Person:\n",
    "    from datetime import datetime\n",
    "    a = datetime.now()\n",
    "    \n",
    "    def __init__(self,name,surname ,yob):\n",
    "        #instance vaiable\n",
    "        self.first_name=name\n",
    "        self.surname=surname\n",
    "        self.Birth_date=yob\n",
    "        \n",
    "    def _display(self):\n",
    "        print(f\"The Person name is {self.first_name} {self.surname} and she was born in {self.Birth_date}\")\n",
    "    \n",
    "\n",
    "    #instance methods\n",
    "    def full_name(self):\n",
    "        print(f\"Full name is {self.first_name + self.surname}\")\n",
    "    \n",
    "    def ageOfPerson(self):\n",
    "        print(f\" {self.first_name} age is {Person.a.year - self.Birth_date}\")\n",
    "    \n",
    "\n",
    "p1 = Person(\"Debora\",\"Willams\",2009)\n",
    "\n",
    "print(p1.first_name)\n",
    "p1._display()\n",
    "\n",
    "p1.full_name()\n",
    "\n",
    "p1.ageOfPerson()\n",
    "\n",
    "\n",
    "\n"
   ]
  },
  {
   "cell_type": "code",
   "execution_count": 20,
   "metadata": {},
   "outputs": [
    {
     "name": "stdout",
     "output_type": "stream",
     "text": [
      "The Person name is John Willams and she was born in 2013\n",
      "Full name is JohnWillams\n",
      " John age is 9\n"
     ]
    }
   ],
   "source": [
    "p1 = Person(\"John\",\"Willams\",2013)\n",
    "p1._display()\n",
    "\n",
    "p1.full_name()\n",
    "\n",
    "p1.ageOfPerson()\n"
   ]
  },
  {
   "cell_type": "code",
   "execution_count": 21,
   "metadata": {},
   "outputs": [
    {
     "name": "stdout",
     "output_type": "stream",
     "text": [
      "10\n",
      "30\n",
      "<__main__.cal object at 0x000001F11973F460>\n",
      "['__class__', '__delattr__', '__dict__', '__dir__', '__doc__', '__eq__', '__format__', '__ge__', '__getattribute__', '__gt__', '__hash__', '__init__', '__init_subclass__', '__le__', '__lt__', '__module__', '__ne__', '__new__', '__reduce__', '__reduce_ex__', '__repr__', '__setattr__', '__sizeof__', '__str__', '__subclasshook__', '__weakref__', 'a', 'add', 'b', 'divide', 'multiply', 'sub']\n",
      "40\n",
      "-20\n",
      "0.3333333333333333\n"
     ]
    }
   ],
   "source": [
    "class cal:\n",
    "    def __init__(self,a,b):\n",
    "        self.a = a\n",
    "        self.b = b\n",
    "        \n",
    "    def add(self):\n",
    "        return self.a + self.b\n",
    "    def sub(self):\n",
    "        return self.a - self.b\n",
    "    def multiply(self):\n",
    "        return self.a * self.b\n",
    "    def divide(self):\n",
    "        return self.a / self.b\n",
    "\n",
    "# outside    \n",
    "num1 = int(input())\n",
    "num2 = int(input())\n",
    "\n",
    "p = cal(num1,num2)\n",
    "print(p)\n",
    "print(dir(p))\n",
    "print(p.add())\n",
    "print(p.sub())\n",
    "print(p.divide())\n",
    "\n"
   ]
  },
  {
   "cell_type": "code",
   "execution_count": 22,
   "metadata": {},
   "outputs": [
    {
     "name": "stdout",
     "output_type": "stream",
     "text": [
      "20.51\n",
      "-0.08999999999999986\n",
      "0.9912621359223301\n"
     ]
    }
   ],
   "source": [
    "p2 = cal(10.21,10.3)\n",
    "print(p2.add())\n",
    "print(p2.sub())\n",
    "print(p2.divide())"
   ]
  },
  {
   "cell_type": "code",
   "execution_count": 23,
   "metadata": {},
   "outputs": [
    {
     "data": {
      "text/plain": [
       "{'a': 10, 'b': 30}"
      ]
     },
     "execution_count": 23,
     "metadata": {},
     "output_type": "execute_result"
    }
   ],
   "source": [
    "p.__dict__"
   ]
  },
  {
   "cell_type": "code",
   "execution_count": null,
   "metadata": {},
   "outputs": [],
   "source": [
    "# a ,b\n",
    "# add()\n",
    "# mult()\n",
    "# div()\n",
    "# mod()\n"
   ]
  },
  {
   "cell_type": "code",
   "execution_count": 24,
   "metadata": {},
   "outputs": [
    {
     "data": {
      "text/plain": [
       "{'first_name': 'John', 'surname': 'Willams', 'Birth_date': 2013}"
      ]
     },
     "execution_count": 24,
     "metadata": {},
     "output_type": "execute_result"
    }
   ],
   "source": [
    "p1.__dict__"
   ]
  },
  {
   "cell_type": "code",
   "execution_count": 25,
   "metadata": {},
   "outputs": [
    {
     "name": "stdout",
     "output_type": "stream",
     "text": [
      "The Person name is Ak Rajamoni and she was born in 1990\n"
     ]
    }
   ],
   "source": [
    "# Modify Object Properties\n",
    "p1.first_name = \"Ak\"\n",
    "p1.surname =\"Rajamoni\"\n",
    "p1.Birth_date = \"1990\"\n",
    "p1._display()"
   ]
  },
  {
   "cell_type": "code",
   "execution_count": 27,
   "metadata": {},
   "outputs": [
    {
     "name": "stdout",
     "output_type": "stream",
     "text": [
      "{'first_name': 'Ak', 'surname': 'Rajamoni', 'Birth_date': '1990'}\n",
      "{'surname': 'Rajamoni', 'Birth_date': '1990'}\n"
     ]
    }
   ],
   "source": [
    "# Delete Object Properties\n",
    "# You can delete properties on objects by using the del keyword:\n",
    "print(p1.__dict__)\n",
    "\n",
    "del p1.first_name\n",
    "\n",
    "print(p1.__dict__)\n",
    "\n",
    "\n"
   ]
  },
  {
   "cell_type": "code",
   "execution_count": 28,
   "metadata": {},
   "outputs": [
    {
     "name": "stdout",
     "output_type": "stream",
     "text": [
      "{'surname': 'Rajamoni', 'Birth_date': '1990'}\n"
     ]
    }
   ],
   "source": [
    "print(p1.__dict__)"
   ]
  },
  {
   "cell_type": "code",
   "execution_count": 29,
   "metadata": {},
   "outputs": [
    {
     "ename": "AttributeError",
     "evalue": "'Person' object has no attribute 'first_name'",
     "output_type": "error",
     "traceback": [
      "\u001b[1;31m---------------------------------------------------------------------------\u001b[0m",
      "\u001b[1;31mAttributeError\u001b[0m                            Traceback (most recent call last)",
      "\u001b[1;32m<ipython-input-29-eeea76ac988a>\u001b[0m in \u001b[0;36m<module>\u001b[1;34m\u001b[0m\n\u001b[1;32m----> 1\u001b[1;33m \u001b[0mp1\u001b[0m\u001b[1;33m.\u001b[0m\u001b[0m_display\u001b[0m\u001b[1;33m(\u001b[0m\u001b[1;33m)\u001b[0m\u001b[1;33m\u001b[0m\u001b[1;33m\u001b[0m\u001b[0m\n\u001b[0m",
      "\u001b[1;32m<ipython-input-19-74747ee2b1b7>\u001b[0m in \u001b[0;36m_display\u001b[1;34m(self)\u001b[0m\n\u001b[0;32m     10\u001b[0m \u001b[1;33m\u001b[0m\u001b[0m\n\u001b[0;32m     11\u001b[0m     \u001b[1;32mdef\u001b[0m \u001b[0m_display\u001b[0m\u001b[1;33m(\u001b[0m\u001b[0mself\u001b[0m\u001b[1;33m)\u001b[0m\u001b[1;33m:\u001b[0m\u001b[1;33m\u001b[0m\u001b[1;33m\u001b[0m\u001b[0m\n\u001b[1;32m---> 12\u001b[1;33m         \u001b[0mprint\u001b[0m\u001b[1;33m(\u001b[0m\u001b[1;34mf\"The Person name is {self.first_name} {self.surname} and she was born in {self.Birth_date}\"\u001b[0m\u001b[1;33m)\u001b[0m\u001b[1;33m\u001b[0m\u001b[1;33m\u001b[0m\u001b[0m\n\u001b[0m\u001b[0;32m     13\u001b[0m \u001b[1;33m\u001b[0m\u001b[0m\n\u001b[0;32m     14\u001b[0m \u001b[1;33m\u001b[0m\u001b[0m\n",
      "\u001b[1;31mAttributeError\u001b[0m: 'Person' object has no attribute 'first_name'"
     ]
    }
   ],
   "source": [
    "p1._display()"
   ]
  },
  {
   "cell_type": "code",
   "execution_count": 30,
   "metadata": {},
   "outputs": [
    {
     "name": "stdout",
     "output_type": "stream",
     "text": [
      "The Person name is Wick Rajamoni and she was born in 1990\n",
      "<__main__.Person object at 0x000001F11A9706D0>\n"
     ]
    }
   ],
   "source": [
    "p1.first_name = \"Wick\"\n",
    "p1._display()\n",
    "print(p1)"
   ]
  },
  {
   "cell_type": "code",
   "execution_count": 3,
   "metadata": {},
   "outputs": [
    {
     "name": "stdout",
     "output_type": "stream",
     "text": [
      "labrodor reitever\n",
      "Male\n",
      "2\n",
      "10\n"
     ]
    }
   ],
   "source": [
    "\n",
    "class Student:\n",
    "    College=\"Vasavi\"\n",
    "    Course=\"ECE\"\n",
    "    def __init__(self,name,age,rollno):\n",
    "        self.name=name\n",
    "        self.age=age\n",
    "        self.rollno=rollno\n",
    "    def displaystudent(self):\n",
    "        return self.name\n",
    "    def displayage(self):\n",
    "        return self.age\n",
    "    def displayrollno(self):\n",
    "        return self.rollno\n",
    "    \n",
    "    \n",
    "S1=Student(\"Tej\",12,26)\n",
    "\n",
    "\n",
    "# print(Student.College)\n",
    "# print(Student.Course)\n",
    "# print(S1.displaystudent())\n",
    "# print(S1.displayage())\n",
    "# print(S1.displayrollno())\n",
    "\n",
    "\n",
    "\n",
    "\n",
    "class Dog:\n",
    "    Breed=\"labrodor reitever\"\n",
    "    Gender=\"Male\"\n",
    "    def __init__(self,age,color,length):\n",
    "        self.age=age\n",
    "        self.color=color\n",
    "        self.length=length\n",
    "        \n",
    "    def displayAge(self,new_age):\n",
    "        self.age = new_age\n",
    "        return self.age\n",
    "    def displayColor(self):\n",
    "        return self.color\n",
    "    def displayLength(self):\n",
    "        return self.length\n",
    "    \n",
    "D1=Dog(2,\"gold\",3)\n",
    "print(Dog.Breed)\n",
    "print(Dog.Gender)\n",
    "print(D1.age)\n",
    "print(D1.displayAge(10))\n"
   ]
  },
  {
   "cell_type": "code",
   "execution_count": 8,
   "metadata": {},
   "outputs": [],
   "source": [
    "#Getters & Setters\n",
    "\n",
    "class Phone:\n",
    "    \n",
    "    def __init__(self,os_name, ram_size , internal_storage, price,phone_name):\n",
    "        self.os_name = os_name\n",
    "        self.ram_size = ram_size\n",
    "        self.internal_storage = internal_storage\n",
    "        self.price = price\n",
    "        self.phone_name = phone_name\n",
    "        \n",
    "    #getter methods\n",
    "    def getPhone(self):\n",
    "        return self.phone_name\n",
    "    def getRam(self):\n",
    "        return self.ram_size\n",
    "    def getInternalSize(self):\n",
    "        return self.internal_storage\n",
    "    def getOs(self):\n",
    "        return self.os_name\n",
    "    def getPrice(self):\n",
    "        return self.price\n",
    "    \n",
    "    #setters methods\n",
    "    def setRam(self , new_size):\n",
    "        self.ram_size = new_size\n",
    "    def setOS(self , new_os):\n",
    "        self.os_name = new_os\n",
    "    def setInternalStorgae(self , new_internal_size):\n",
    "        self.internal_storage = new_internal_size\n",
    "    def setPrice(self , new_price):\n",
    "        self.price = new_price\n",
    "        \n",
    "    def __str__(self):\n",
    "        return f\"{self.phone_name} has {self.ram_size} and internal storage {self.internal_storage} and price is {self.price}\"\n",
    "    \n",
    "    \n",
    "oneplus = Phone('Andriod 11','12GB' , '128GB' ,'72000INR',\"oneplus\")\n",
    "\n",
    "iphone = Phone('mac-os','6GB' , '64GB' ,'130000INR',\"Iphone\")\n",
    "\n"
   ]
  },
  {
   "cell_type": "code",
   "execution_count": 9,
   "metadata": {},
   "outputs": [
    {
     "name": "stdout",
     "output_type": "stream",
     "text": [
      "oneplus has 12GB and internal storage 128GB and price is 72000INR\n"
     ]
    }
   ],
   "source": [
    "print(oneplus)"
   ]
  },
  {
   "cell_type": "code",
   "execution_count": 10,
   "metadata": {},
   "outputs": [
    {
     "name": "stdout",
     "output_type": "stream",
     "text": [
      "Iphone has 6GB and internal storage 64GB and price is 130000INR\n"
     ]
    }
   ],
   "source": [
    "print(iphone)"
   ]
  },
  {
   "cell_type": "code",
   "execution_count": 12,
   "metadata": {},
   "outputs": [
    {
     "data": {
      "text/plain": [
       "{'os_name': 'Andriod 11',\n",
       " 'ram_size': '12GB',\n",
       " 'internal_storage': '128GB',\n",
       " 'price': '72000INR',\n",
       " 'phone_name': 'oneplus'}"
      ]
     },
     "execution_count": 12,
     "metadata": {},
     "output_type": "execute_result"
    }
   ],
   "source": [
    "oneplus.__dict__"
   ]
  },
  {
   "cell_type": "code",
   "execution_count": 13,
   "metadata": {},
   "outputs": [
    {
     "data": {
      "text/plain": [
       "{'os_name': 'mac-os',\n",
       " 'ram_size': '6GB',\n",
       " 'internal_storage': '64GB',\n",
       " 'price': '130000INR',\n",
       " 'phone_name': 'Iphone'}"
      ]
     },
     "execution_count": 13,
     "metadata": {},
     "output_type": "execute_result"
    }
   ],
   "source": [
    "iphone.__dict__"
   ]
  },
  {
   "cell_type": "code",
   "execution_count": 15,
   "metadata": {},
   "outputs": [
    {
     "name": "stdout",
     "output_type": "stream",
     "text": [
      "8GB\n",
      "{'os_name': 'mac-os', 'ram_size': '8GB', 'internal_storage': '64GB', 'price': '130000INR', 'phone_name': 'Iphone'}\n"
     ]
    }
   ],
   "source": [
    "iphone.setRam(\"8GB\")\n",
    "print(iphone.getRam())\n",
    "print(iphone.__dict__)"
   ]
  },
  {
   "cell_type": "code",
   "execution_count": 33,
   "metadata": {},
   "outputs": [
    {
     "name": "stdout",
     "output_type": "stream",
     "text": [
      "Hey Iam object\n"
     ]
    }
   ],
   "source": [
    "class Son():\n",
    "    def __init__(self,name):\n",
    "        self.Name = name\n",
    "    \n",
    "    def walk(self):\n",
    "        pass\n",
    "    def __str__(self):\n",
    "        return \"Hey Iam object\"\n",
    "    \n",
    "s = Son(\"AK\")\n",
    "s.walk()\n",
    "print(s)    "
   ]
  },
  {
   "cell_type": "markdown",
   "metadata": {},
   "source": [
    "### methods\n",
    "\n",
    "- methods define behaviour of the class\n",
    "- TYPES\n",
    "- instance (self)\n",
    "- class (cls)\n",
    "- static methods"
   ]
  },
  {
   "cell_type": "code",
   "execution_count": null,
   "metadata": {},
   "outputs": [],
   "source": []
  },
  {
   "cell_type": "code",
   "execution_count": 16,
   "metadata": {},
   "outputs": [],
   "source": [
    "class Person:\n",
    "    city = \"Hyderbad\" # class variable - bound to class\n",
    "    def __init__(a,name,sname,year_of_birth):\n",
    "#         instance variable - bound to object\n",
    "        a.name=name\n",
    "        a.surname=sname\n",
    "        a.yob=year_of_birth\n",
    "   \n",
    "        \n",
    "    def age(a,current_year):\n",
    "        \"\"\"\n",
    "        doc string \n",
    "        \n",
    "        caculate the age\n",
    "        \"\"\"\n",
    "        \n",
    "        return current_year-a.yob\n",
    "    \n",
    "    def __str__(a): #dundder methods or magic methods.\n",
    "        return f'{a.name} {a.surname} was born in {a.yob}'"
   ]
  },
  {
   "cell_type": "code",
   "execution_count": 17,
   "metadata": {},
   "outputs": [],
   "source": [
    "alec=Person(\"Gladitor\",\"Maximus\",1999) #creating a object"
   ]
  },
  {
   "cell_type": "code",
   "execution_count": 18,
   "metadata": {},
   "outputs": [
    {
     "data": {
      "text/plain": [
       "{'name': 'Gladitor', 'surname': 'Maximus', 'yob': 1999}"
      ]
     },
     "execution_count": 18,
     "metadata": {},
     "output_type": "execute_result"
    }
   ],
   "source": [
    "alec.__dict__"
   ]
  },
  {
   "cell_type": "code",
   "execution_count": 19,
   "metadata": {},
   "outputs": [
    {
     "name": "stdout",
     "output_type": "stream",
     "text": [
      "Gladitor Maximus was born in 1999\n"
     ]
    }
   ],
   "source": [
    "print(alec)\n",
    "#string representation of object"
   ]
  },
  {
   "cell_type": "markdown",
   "metadata": {},
   "source": [
    "### mutliple init()'s"
   ]
  },
  {
   "cell_type": "code",
   "execution_count": 3,
   "metadata": {},
   "outputs": [
    {
     "name": "stdout",
     "output_type": "stream",
     "text": [
      "Hey Hello\n",
      "Hey Hello\n"
     ]
    }
   ],
   "source": [
    "class Person1():\n",
    "   \n",
    "     \n",
    "#     def __init__(self):\n",
    "#         print(\"Hey HI!!\")\n",
    "        \n",
    "    def __init__(self,name):\n",
    "        self.a=name\n",
    "        \n",
    "    \n",
    "    \n",
    "#     def __init__(self,fullname,year,place):\n",
    "#         \"\"\"\n",
    "#         constructor\n",
    "#         \"\"\"\n",
    "#         self.x=name\n",
    "#         self.y=age\n",
    "#         self.z=year\n",
    "        \n",
    "#     def __init__(self,surname,age):\n",
    "#         self.c=surname\n",
    "#         self.d=age\n",
    "        \n",
    "    def display(self):\n",
    "        print(self)\n",
    "        \n",
    "    def __str__(self):\n",
    "        return \"Hey Hello\"\n",
    "        \n",
    "\n",
    "# per=Person1()\n",
    "per1 = Person1(\"Ak\")\n",
    "# per2 = Person(\"Rajamoni\",2000,\"India\")\n",
    "# per = Person1(\"Rajamoni\",25)\n",
    "# print(per)\n",
    "\n",
    "per1.display()\n",
    "\n",
    "print(per1)\n",
    "\n",
    "#in mutliple init methds always consider the last one"
   ]
  },
  {
   "cell_type": "code",
   "execution_count": null,
   "metadata": {},
   "outputs": [],
   "source": [
    "#####Simple Handon Question######\n",
    "\n",
    "\n",
    "#attributes\n",
    "name \n",
    "city\n",
    "election_id\n",
    "age\n",
    "#conditions age>=18 allowed and if election card if available ->to vote otherwise -> not allowed to vote. \n",
    "# election_id = 10 digits (A-Z0-9)\n"
   ]
  },
  {
   "cell_type": "code",
   "execution_count": 8,
   "metadata": {},
   "outputs": [
    {
     "data": {
      "text/plain": [
       "<re.Match object; span=(0, 18), match='ASHGJ9817222222222'>"
      ]
     },
     "execution_count": 8,
     "metadata": {},
     "output_type": "execute_result"
    }
   ],
   "source": [
    "import re\n",
    "re.search(\"[A-Z0-9]*\",\"ASHGJ9817222222222\")"
   ]
  },
  {
   "cell_type": "code",
   "execution_count": null,
   "metadata": {},
   "outputs": [],
   "source": [
    "import re\n",
    "class Election:\n",
    "    def __init__(self,name,city,election_id,age):\n",
    "        self.Name=name\n",
    "        self.City=city\n",
    "        self.ElectionId=election_id\n",
    "        self.Age=age\n",
    "    \n",
    "    def election_eligibility(self):\n",
    "        if(self.Age>=18):\n",
    "            if(re.findall(\"[A-Z0-9]{10}\",self.ElectionId)):\n",
    "                print(\"allowed to vote and electionid is valid\")\n",
    "            else:\n",
    "                print(\"Invalid Id\")\n",
    "        else:\n",
    "            print(\"not allowed to vote\")\n",
    "                 \n",
    "    \n",
    "\n",
    "user=Election(\"swati\",\"Hyderabad\",\"ASHGJ98172\",35)\n",
    "user.election_eligibility()\n",
    "\n"
   ]
  },
  {
   "cell_type": "markdown",
   "metadata": {},
   "source": [
    "### type of variable\n",
    "\n",
    "- instance variable  (object level)\n",
    "- class variable (class level) also know as static variables\n",
    "- class variable are accessed with both object and class name"
   ]
  },
  {
   "cell_type": "code",
   "execution_count": 9,
   "metadata": {},
   "outputs": [],
   "source": [
    "\n",
    "class abc:\n",
    "    \n",
    "    #class variables - one copy avaiable to all objs\n",
    "    some_var=123\n",
    "    \n",
    "    def __init__(self,name):\n",
    "        #instance variable\n",
    "        self.a=name #private scope\n",
    "    def __str__(self):\n",
    "        return \"Hello\""
   ]
  },
  {
   "cell_type": "code",
   "execution_count": 10,
   "metadata": {},
   "outputs": [],
   "source": [
    "p = abc(\"Ak\")"
   ]
  },
  {
   "cell_type": "code",
   "execution_count": 11,
   "metadata": {},
   "outputs": [
    {
     "name": "stdout",
     "output_type": "stream",
     "text": [
      "Hello\n"
     ]
    },
    {
     "data": {
      "text/plain": [
       "{'a': 'Ak'}"
      ]
     },
     "execution_count": 11,
     "metadata": {},
     "output_type": "execute_result"
    }
   ],
   "source": [
    "print(p)\n",
    "p.__dict__"
   ]
  },
  {
   "cell_type": "code",
   "execution_count": 12,
   "metadata": {},
   "outputs": [
    {
     "data": {
      "text/plain": [
       "'Ak'"
      ]
     },
     "execution_count": 12,
     "metadata": {},
     "output_type": "execute_result"
    }
   ],
   "source": [
    "p.a"
   ]
  },
  {
   "cell_type": "code",
   "execution_count": null,
   "metadata": {},
   "outputs": [],
   "source": [
    "abc.some_var"
   ]
  },
  {
   "cell_type": "code",
   "execution_count": null,
   "metadata": {},
   "outputs": [],
   "source": [
    "abc.a\n"
   ]
  },
  {
   "cell_type": "code",
   "execution_count": 13,
   "metadata": {},
   "outputs": [
    {
     "data": {
      "text/plain": [
       "mappingproxy({'__module__': '__main__',\n",
       "              'some_var': 123,\n",
       "              '__init__': <function __main__.abc.__init__(self, name)>,\n",
       "              '__str__': <function __main__.abc.__str__(self)>,\n",
       "              '__dict__': <attribute '__dict__' of 'abc' objects>,\n",
       "              '__weakref__': <attribute '__weakref__' of 'abc' objects>,\n",
       "              '__doc__': None})"
      ]
     },
     "execution_count": 13,
     "metadata": {},
     "output_type": "execute_result"
    }
   ],
   "source": [
    "abc.__dict__"
   ]
  },
  {
   "cell_type": "code",
   "execution_count": 19,
   "metadata": {},
   "outputs": [
    {
     "name": "stdout",
     "output_type": "stream",
     "text": [
      "{'name': 'Virat', 'surname': 'Kholi', 'price': 100, 'userName': 'AK'}\n",
      "{'__module__': '__main__', 'set_name': <function A.set_name at 0x0000020126FC45E0>, 'set_surname': <function A.set_surname at 0x0000020126FC4550>, 'display_user': <function A.display_user at 0x0000020126FC44C0>, '__dict__': <attribute '__dict__' of 'A' objects>, '__weakref__': <attribute '__weakref__' of 'A' objects>, '__doc__': None}\n"
     ]
    }
   ],
   "source": [
    "class A:\n",
    "    def set_name(self,name):\n",
    "        self.name=name\n",
    "    def set_surname(self,name):\n",
    "        self.surname=name\n",
    "    def display_user(self):\n",
    "        return f\"{self.name} {self.surname}\"\n",
    "a=A()\n",
    "a.set_name(\"Virat\")\n",
    "a.set_surname(\"Kholi\")\n",
    "a.price =100\n",
    "a.display_user()\n",
    "a.userName = \"AK\"\n",
    "print(a.__dict__)\n",
    "print(A.__dict__)"
   ]
  },
  {
   "cell_type": "code",
   "execution_count": null,
   "metadata": {},
   "outputs": [],
   "source": []
  },
  {
   "cell_type": "markdown",
   "metadata": {},
   "source": [
    "### access modifers\n",
    "\n",
    "- Python control access modifications which are used to restrict access to the variables and methods of the class. \n",
    "- Most programming languages has three forms of access modifiers, which are Public, Protected and Private in a class.\n",
    "\n",
    "- A Class in Python has three types of access modifiers –\n",
    "\n",
    "    Public Access Modifier\n",
    "    \n",
    "    Protected Access Modifier\n",
    "    \n",
    "    Private Access Modifier"
   ]
  },
  {
   "cell_type": "markdown",
   "metadata": {},
   "source": [
    "#### public \n",
    "Public Access Modifier:\n",
    "\n",
    "The members of a class that are declared public are easily accessible from any part of the program. All data members and member functions of a class are public by default"
   ]
  },
  {
   "cell_type": "code",
   "execution_count": 20,
   "metadata": {},
   "outputs": [],
   "source": [
    "from IPython.core.interactiveshell import InteractiveShell\n",
    "InteractiveShell.ast_node_interactivity = \"all\"\n"
   ]
  },
  {
   "cell_type": "code",
   "execution_count": 21,
   "metadata": {},
   "outputs": [],
   "source": [
    "class Person:\n",
    "    def __init__(a,name,sname,year_of_birth):\n",
    "        #public \n",
    "        a.name=name\n",
    "        a.surname=sname\n",
    "        a.yob=year_of_birth\n",
    "        \n",
    "    def age(a,current_year): #public\n",
    "        \"\"\"\n",
    "        caculate the age\n",
    "        \"\"\"\n",
    "        return current_year-a.yob\n",
    "    def __str__(a):\n",
    "        return f'{a.name} {a.surname} was born in {a.yob}'"
   ]
  },
  {
   "cell_type": "code",
   "execution_count": 22,
   "metadata": {},
   "outputs": [
    {
     "data": {
      "text/plain": [
       "'AK'"
      ]
     },
     "execution_count": 22,
     "metadata": {},
     "output_type": "execute_result"
    },
    {
     "data": {
      "text/plain": [
       "'Rajamoni'"
      ]
     },
     "execution_count": 22,
     "metadata": {},
     "output_type": "execute_result"
    },
    {
     "data": {
      "text/plain": [
       "190101"
      ]
     },
     "execution_count": 22,
     "metadata": {},
     "output_type": "execute_result"
    }
   ],
   "source": [
    "p = Person(\"AK\",\"Rajamoni\",190101)\n",
    "\n",
    "#if it is possible only if is public \n",
    "p.name\n",
    "p.surname\n",
    "p.yob"
   ]
  },
  {
   "cell_type": "code",
   "execution_count": 23,
   "metadata": {},
   "outputs": [
    {
     "data": {
      "text/plain": [
       "-188101"
      ]
     },
     "execution_count": 23,
     "metadata": {},
     "output_type": "execute_result"
    }
   ],
   "source": [
    "p.age(2000)"
   ]
  },
  {
   "cell_type": "markdown",
   "metadata": {},
   "source": [
    "#### protected\n",
    "\n",
    "Protected Access Modifier:\n",
    "\n",
    "- The members of a class that are declared protected are only accessible to a class derived from it. (same package)\n",
    "\n",
    "- Data members of a class are declared protected by adding a single underscore ‘_’ symbol before the data member of that class."
   ]
  },
  {
   "cell_type": "code",
   "execution_count": 24,
   "metadata": {},
   "outputs": [],
   "source": [
    "# super class\n",
    "class Student:\n",
    "\n",
    "     \n",
    "     # constructor\n",
    "     def __init__(self, name, roll, branch):\n",
    "            #proctected variables\n",
    "            print(\"Base\")\n",
    "            self._name = name\n",
    "            self._roll = roll\n",
    "            self._branch = branch\n",
    "     \n",
    "     # protected member function   \n",
    "     def _displayRollAndBranch(self):\n",
    "  \n",
    "          # accessing protected data members\n",
    "          print(\"Roll: \", self._roll)\n",
    "          print(\"Branch: \", self._branch)\n",
    "\n"
   ]
  },
  {
   "cell_type": "code",
   "execution_count": 25,
   "metadata": {},
   "outputs": [
    {
     "name": "stdout",
     "output_type": "stream",
     "text": [
      "Base\n"
     ]
    },
    {
     "data": {
      "text/plain": [
       "'AK'"
      ]
     },
     "execution_count": 25,
     "metadata": {},
     "output_type": "execute_result"
    },
    {
     "name": "stdout",
     "output_type": "stream",
     "text": [
      "Roll:  18791\n",
      "Branch:  CSE\n"
     ]
    },
    {
     "data": {
      "text/plain": [
       "'AK'"
      ]
     },
     "execution_count": 25,
     "metadata": {},
     "output_type": "execute_result"
    }
   ],
   "source": [
    "s = Student(\"AK\",18791,\"CSE\")\n",
    "\n",
    "s._name\n",
    "\n",
    "s._displayRollAndBranch()\n",
    "s._name\n",
    "# super class\n",
    "class Student:\n",
    "\n",
    "     \n",
    "     # constructor\n",
    "     def __init__(self, name, roll, branch):\n",
    "            #proctected variables\n",
    "            print(\"Base\")\n",
    "            self._name = name\n",
    "            self._roll = roll\n",
    "            self._branch = branch\n",
    "     \n",
    "     # protected member function   \n",
    "     def _displayRollAndBranch(self):\n",
    "  \n",
    "          # accessing protected data members\n",
    "          print(\"Roll: \", self._roll)\n",
    "          print(\"Branch: \", self._branch)\n",
    "\n"
   ]
  },
  {
   "cell_type": "code",
   "execution_count": 27,
   "metadata": {
    "scrolled": true
   },
   "outputs": [
    {
     "name": "stdout",
     "output_type": "stream",
     "text": [
      "Derived\n"
     ]
    },
    {
     "ename": "AttributeError",
     "evalue": "'Geek' object has no attribute '_name'",
     "output_type": "error",
     "traceback": [
      "\u001b[1;31m---------------------------------------------------------------------------\u001b[0m",
      "\u001b[1;31mAttributeError\u001b[0m                            Traceback (most recent call last)",
      "\u001b[1;32m<ipython-input-27-cb1207d16b80>\u001b[0m in \u001b[0;36m<module>\u001b[1;34m\u001b[0m\n\u001b[0;32m     44\u001b[0m \u001b[1;33m\u001b[0m\u001b[0m\n\u001b[0;32m     45\u001b[0m \u001b[1;31m# calling public member functions of the class\u001b[0m\u001b[1;33m\u001b[0m\u001b[1;33m\u001b[0m\u001b[1;33m\u001b[0m\u001b[0m\n\u001b[1;32m---> 46\u001b[1;33m \u001b[0mobj\u001b[0m\u001b[1;33m.\u001b[0m\u001b[0mdisplayDetails\u001b[0m\u001b[1;33m(\u001b[0m\u001b[1;33m)\u001b[0m\u001b[1;33m\u001b[0m\u001b[1;33m\u001b[0m\u001b[0m\n\u001b[0m",
      "\u001b[1;32m<ipython-input-27-cb1207d16b80>\u001b[0m in \u001b[0;36mdisplayDetails\u001b[1;34m(self)\u001b[0m\n\u001b[0;32m     33\u001b[0m \u001b[1;33m\u001b[0m\u001b[0m\n\u001b[0;32m     34\u001b[0m                  \u001b[1;31m# accessing protected data members of super class\u001b[0m\u001b[1;33m\u001b[0m\u001b[1;33m\u001b[0m\u001b[1;33m\u001b[0m\u001b[0m\n\u001b[1;32m---> 35\u001b[1;33m                 \u001b[0mprint\u001b[0m\u001b[1;33m(\u001b[0m\u001b[1;34m\"Name: \"\u001b[0m\u001b[1;33m,\u001b[0m \u001b[0mself\u001b[0m\u001b[1;33m.\u001b[0m\u001b[0m_name\u001b[0m\u001b[1;33m)\u001b[0m\u001b[1;33m\u001b[0m\u001b[1;33m\u001b[0m\u001b[0m\n\u001b[0m\u001b[0;32m     36\u001b[0m \u001b[1;33m\u001b[0m\u001b[0m\n\u001b[0;32m     37\u001b[0m                  \u001b[1;31m# accessing protected member functions of super class\u001b[0m\u001b[1;33m\u001b[0m\u001b[1;33m\u001b[0m\u001b[1;33m\u001b[0m\u001b[0m\n",
      "\u001b[1;31mAttributeError\u001b[0m: 'Geek' object has no attribute '_name'"
     ]
    }
   ],
   "source": [
    "# super class\n",
    "class Student:\n",
    "\n",
    "     \n",
    "     # constructor\n",
    "     def __init__(self, name, roll, branch):\n",
    "            #proctected variables\n",
    "            print(\"Base\")\n",
    "            self._name = name\n",
    "            self._roll = roll\n",
    "            self._branch = branch\n",
    "     \n",
    "     # protected member function   \n",
    "     def _displayRollAndBranch(self):\n",
    "  \n",
    "          # accessing protected data members\n",
    "          print(\"Roll: \", self._roll)\n",
    "          print(\"Branch: \", self._branch)\n",
    "\n",
    "\n",
    "\n",
    "# derived class\n",
    "class Geek(Student):\n",
    "  \n",
    "       # constructor \n",
    "       def __init__(self, name, roll, branch): \n",
    "                print(\"Derived\")\n",
    "                #calling super init() methods\n",
    "                Student.__init__(self, name, roll, branch) \n",
    "          \n",
    "       # public member function \n",
    "       def displayDetails(self):\n",
    "                    \n",
    "                 # accessing protected data members of super class \n",
    "                print(\"Name: \", self._name) \n",
    "                    \n",
    "                 # accessing protected member functions of super class \n",
    "                self._displayRollAndBranch()\n",
    "  \n",
    "\n",
    "# creating objects of the derived class      \n",
    "\n",
    "obj = Geek(\"R2J\", 1706256, \"Information Technology\") \n",
    "  \n",
    "# calling public member functions of the class\n",
    "obj.displayDetails() "
   ]
  },
  {
   "cell_type": "code",
   "execution_count": 29,
   "metadata": {},
   "outputs": [
    {
     "name": "stdout",
     "output_type": "stream",
     "text": [
      "10 AK\n"
     ]
    }
   ],
   "source": [
    "class A:\n",
    "    def __init__(self,a):\n",
    "        self.user_name = a\n",
    "        \n",
    "    def displayA(self):\n",
    "        print(\"Iam A class method\")\n",
    "class B(A):\n",
    "    def __init__(self,c):\n",
    "        self.user_name = \"HARI\"\n",
    "        A.__init__(self,c)\n",
    "    def displayB(self):\n",
    "        print(self.user_name)\n",
    "        \n",
    "\n",
    "obj = B(10,\"AK\")\n",
    "obj.displayB()"
   ]
  },
  {
   "cell_type": "markdown",
   "metadata": {},
   "source": [
    "### private\n",
    "\n",
    "Private Access Modifier:\n",
    "\n",
    "- The members of a class that are declared private are accessible within the class only, \n",
    "\n",
    "\n",
    "\n",
    "- private access modifier is the most secure access modifier. Data members of a class are declared private by adding a double underscore ‘__’ symbol before the data member of that class."
   ]
  },
  {
   "cell_type": "code",
   "execution_count": 32,
   "metadata": {},
   "outputs": [
    {
     "ename": "AttributeError",
     "evalue": "'A' object has no attribute '__name'",
     "output_type": "error",
     "traceback": [
      "\u001b[1;31m---------------------------------------------------------------------------\u001b[0m",
      "\u001b[1;31mAttributeError\u001b[0m                            Traceback (most recent call last)",
      "\u001b[1;32m<ipython-input-32-2a0135f45dee>\u001b[0m in \u001b[0;36m<module>\u001b[1;34m\u001b[0m\n\u001b[0;32m      8\u001b[0m \u001b[0ma\u001b[0m \u001b[1;33m=\u001b[0m \u001b[0mA\u001b[0m\u001b[1;33m(\u001b[0m\u001b[1;34m\"AK\"\u001b[0m\u001b[1;33m,\u001b[0m\u001b[1;36m1781\u001b[0m\u001b[1;33m,\u001b[0m\u001b[1;34m\"CSE\"\u001b[0m\u001b[1;33m)\u001b[0m\u001b[1;33m\u001b[0m\u001b[1;33m\u001b[0m\u001b[0m\n\u001b[0;32m      9\u001b[0m \u001b[1;33m\u001b[0m\u001b[0m\n\u001b[1;32m---> 10\u001b[1;33m \u001b[0mprint\u001b[0m\u001b[1;33m(\u001b[0m\u001b[0ma\u001b[0m\u001b[1;33m.\u001b[0m\u001b[0m__name\u001b[0m\u001b[1;33m)\u001b[0m\u001b[1;33m\u001b[0m\u001b[1;33m\u001b[0m\u001b[0m\n\u001b[0m\u001b[0;32m     11\u001b[0m \u001b[1;33m\u001b[0m\u001b[0m\n",
      "\u001b[1;31mAttributeError\u001b[0m: 'A' object has no attribute '__name'"
     ]
    }
   ],
   "source": [
    "class A:\n",
    "    # constructor\n",
    "    def __init__(self, name, roll, branch):  \n",
    "        self.__name = name\n",
    "        self.__roll = roll\n",
    "        self.__branch = branch\n",
    "        \n",
    "a = A(\"AK\",1781,\"CSE\")\n",
    "\n",
    "print(a.__name)\n",
    "\n"
   ]
  },
  {
   "cell_type": "code",
   "execution_count": 34,
   "metadata": {},
   "outputs": [
    {
     "name": "stdout",
     "output_type": "stream",
     "text": [
      "Name:  R2J\n",
      "Roll:  1706256\n",
      "Branch:  Information Technology\n"
     ]
    },
    {
     "ename": "AttributeError",
     "evalue": "'Geek' object has no attribute '__displayDetails'",
     "output_type": "error",
     "traceback": [
      "\u001b[1;31m---------------------------------------------------------------------------\u001b[0m",
      "\u001b[1;31mAttributeError\u001b[0m                            Traceback (most recent call last)",
      "\u001b[1;32m<ipython-input-34-9fd09f175bed>\u001b[0m in \u001b[0;36m<module>\u001b[1;34m\u001b[0m\n\u001b[0;32m     34\u001b[0m \u001b[0mobj\u001b[0m\u001b[1;33m.\u001b[0m\u001b[0maccessPrivateFunction\u001b[0m\u001b[1;33m(\u001b[0m\u001b[1;33m)\u001b[0m\u001b[1;33m\u001b[0m\u001b[1;33m\u001b[0m\u001b[0m\n\u001b[0;32m     35\u001b[0m \u001b[1;33m\u001b[0m\u001b[0m\n\u001b[1;32m---> 36\u001b[1;33m \u001b[0mobj\u001b[0m\u001b[1;33m.\u001b[0m\u001b[0m__displayDetails\u001b[0m\u001b[1;33m(\u001b[0m\u001b[1;33m)\u001b[0m\u001b[1;33m\u001b[0m\u001b[1;33m\u001b[0m\u001b[0m\n\u001b[0m\u001b[0;32m     37\u001b[0m \u001b[1;31m# print(obj.__name)\u001b[0m\u001b[1;33m\u001b[0m\u001b[1;33m\u001b[0m\u001b[1;33m\u001b[0m\u001b[0m\n\u001b[0;32m     38\u001b[0m \u001b[1;33m\u001b[0m\u001b[0m\n",
      "\u001b[1;31mAttributeError\u001b[0m: 'Geek' object has no attribute '__displayDetails'"
     ]
    }
   ],
   "source": [
    "class Geek:\n",
    "     \n",
    "     # private members class variables\n",
    "     __name = None\n",
    "     __roll = None\n",
    "     __branch = None\n",
    "  \n",
    "     # constructor\n",
    "     def __init__(self, name, roll, branch):  \n",
    "          self.__name = name\n",
    "          self.__roll = roll\n",
    "          self.__branch = branch\n",
    "  \n",
    "     # private member function  \n",
    "     def __displayDetails(self):\n",
    "            \n",
    "           # accessing private data members\n",
    "           print(\"Name: \", self.__name)\n",
    "           print(\"Roll: \", self.__roll)\n",
    "           print(\"Branch: \", self.__branch)\n",
    "     \n",
    "     # public member function\n",
    "     def accessPrivateFunction(self): \n",
    "             \n",
    "           # accesing private member function\n",
    "           self.__displayDetails()  \n",
    "            \n",
    "            \n",
    "  \n",
    "# creating object    \n",
    "obj = Geek(\"R2J\", 1706256, \"Information Technology\")\n",
    "\n",
    "\n",
    "obj.accessPrivateFunction()\n",
    "\n",
    "obj.__displayDetails()\n",
    "# print(obj.__name)\n",
    "\n",
    "\n",
    "\n",
    "# calling public member function of the class\n",
    "# obj.accessPrivateFunction()\n",
    "# \n"
   ]
  },
  {
   "cell_type": "code",
   "execution_count": 35,
   "metadata": {},
   "outputs": [],
   "source": [
    "class Parent:\n",
    "    name = None #public\n",
    "    _year = None #protected\n",
    "    __ceo =None #privtae\n",
    "    \n",
    "    def __init__(self,a,b,c):\n",
    "        self.name = a\n",
    "        self._age= b\n",
    "        self.__ceo = c\n",
    "\n",
    "    #public \n",
    "    def displayPublicMembers(self):\n",
    "        print(\"Accessing public variable \",self.name)\n",
    "\n",
    "        # protected member function   \n",
    "    def _displayProtectedMembers(self):\n",
    "        print(\"Protected Data Member: \", self._age)\n",
    "\n",
    "    # private member function   \n",
    "    def __displayPrivateMembers(self):\n",
    "        # accessing private data members\n",
    "        print(\"Private Data Member: \", self.__ceo)\n",
    "        \n",
    "    #public member function\n",
    "    def accessPrivateMembers(self):\n",
    "        self.__displayPrivateMembers()"
   ]
  },
  {
   "cell_type": "code",
   "execution_count": 36,
   "metadata": {},
   "outputs": [],
   "source": [
    "# derived class\n",
    "class Child(Parent):\n",
    "   \n",
    "      # constructor \n",
    "       def __init__(self, var1, var2, var3): \n",
    "                Parent.__init__(self, var1, var2, var3)\n",
    "            \n",
    "      # public member function \n",
    "       def accessProtectedMemebers(self):  \n",
    "                # accessing protected member functions of super class \n",
    "                self._displayProtectedMembers()"
   ]
  },
  {
   "cell_type": "code",
   "execution_count": 37,
   "metadata": {},
   "outputs": [],
   "source": [
    "obj = Child(\"Tesla\",1390,\"Elon Musk\")"
   ]
  },
  {
   "cell_type": "code",
   "execution_count": 38,
   "metadata": {},
   "outputs": [
    {
     "name": "stdout",
     "output_type": "stream",
     "text": [
      "Accessing public variable  Tesla\n",
      "Protected Data Member:  1390\n",
      "Private Data Member:  Elon Musk\n"
     ]
    }
   ],
   "source": [
    "  \n",
    "# calling public member functions of the class\n",
    "obj.displayPublicMembers()\n",
    "\n",
    "obj.accessProtectedMemebers()\n",
    "obj.accessPrivateMembers() "
   ]
  },
  {
   "cell_type": "code",
   "execution_count": null,
   "metadata": {},
   "outputs": [],
   "source": [
    "obj._displayProtectedMembers() #protected"
   ]
  },
  {
   "cell_type": "code",
   "execution_count": null,
   "metadata": {},
   "outputs": [],
   "source": [
    "import re\n",
    "class voter:\n",
    "   \n",
    "    def __init__(self,vname,vage,vid,vcity):\n",
    "        self.vname=vname\n",
    "        self.vage=vage\n",
    "        self.vid=vid\n",
    "        self.vcity=vcity\n",
    "  \n",
    "    def isEligibleToVote(self):\n",
    "     \n",
    "        if self.vage>=18:\n",
    "            if re.search(\"[a-zA-Z0-9]+\",self.vid):\n",
    "                print(f\"{self.vname}is eligible to vote\")\n",
    "            else:\n",
    "                print(f\"invalid voter id\")\n",
    "        else:\n",
    "            print(f\"{self.vname}is not eligible to vote\")\n",
    "\n",
    "            \n",
    "v1=voter(\"Sharan\",23,\"Ex5894r\",\"hyderabad\")  \n",
    "v1.isEligibleToVote()"
   ]
  },
  {
   "cell_type": "code",
   "execution_count": null,
   "metadata": {},
   "outputs": [],
   "source": []
  }
 ],
 "metadata": {
  "kernelspec": {
   "display_name": "Python 3",
   "language": "python",
   "name": "python3"
  },
  "language_info": {
   "codemirror_mode": {
    "name": "ipython",
    "version": 3
   },
   "file_extension": ".py",
   "mimetype": "text/x-python",
   "name": "python",
   "nbconvert_exporter": "python",
   "pygments_lexer": "ipython3",
   "version": "3.8.8"
  }
 },
 "nbformat": 4,
 "nbformat_minor": 4
}
